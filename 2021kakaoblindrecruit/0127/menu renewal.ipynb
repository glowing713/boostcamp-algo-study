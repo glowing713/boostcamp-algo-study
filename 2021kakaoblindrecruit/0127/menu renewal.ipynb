{
 "cells": [
  {
   "cell_type": "code",
   "execution_count": null,
   "metadata": {},
   "outputs": [],
   "source": [
    "from itertools import combinations\n",
    "from collections import defaultdict\n",
    "import re\n",
    "def solution(orders, course):\n",
    "    ans=defaultdict(list)\n",
    "    cand=defaultdict(set)\n",
    "    [cand[j].update(combinations(sorted(i),j)) for j in course for i in orders]\n",
    "    for key, values in cand.items():\n",
    "        ans[key]=[0,0]\n",
    "        for j in values:\n",
    "            check, cnt = f\"[{''.join(j)}]\", 0\n",
    "            for order in orders:\n",
    "                cnt += 1 if len(re.findall(check,order)) == key else 0\n",
    "            if ans[key][0] < cnt:\n",
    "                ans[key] = [cnt, ''.join(j)]\n",
    "            elif ans[key][0] == cnt:\n",
    "                ans[key].append(''.join(j))\n",
    "    ans = sorted(sum([i[1:] for i in ans.values() if i[0] >= 2], []))\n",
    "    return ans"
   ]
  }
 ],
 "metadata": {
  "kernelspec": {
   "display_name": "Python 3",
   "language": "python",
   "name": "python3"
  },
  "language_info": {
   "codemirror_mode": {
    "name": "ipython",
    "version": 3
   },
   "file_extension": ".py",
   "mimetype": "text/x-python",
   "name": "python",
   "nbconvert_exporter": "python",
   "pygments_lexer": "ipython3",
   "version": "3.8.5"
  }
 },
 "nbformat": 4,
 "nbformat_minor": 4
}
