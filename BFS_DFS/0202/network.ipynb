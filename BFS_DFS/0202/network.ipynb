{
 "cells": [
  {
   "cell_type": "code",
   "execution_count": null,
   "metadata": {},
   "outputs": [],
   "source": [
    "def solution(n, computers):\n",
    "    network, ans = set(i for i in range(n)), 0\n",
    "    while network:\n",
    "        j = network.pop()\n",
    "        que = [j]\n",
    "        while que:\n",
    "            cur = que.pop(0)\n",
    "            for idx, nxt in enumerate(computers[cur]):\n",
    "                if idx in network and nxt == 1:\n",
    "                    que.append(idx)\n",
    "                    network.remove(idx)\n",
    "        ans+= 1\n",
    "    return ans\n",
    "    "
   ]
  }
 ],
 "metadata": {
  "kernelspec": {
   "display_name": "Python 3",
   "language": "python",
   "name": "python3"
  },
  "language_info": {
   "codemirror_mode": {
    "name": "ipython",
    "version": 3
   },
   "file_extension": ".py",
   "mimetype": "text/x-python",
   "name": "python",
   "nbconvert_exporter": "python",
   "pygments_lexer": "ipython3",
   "version": "3.8.5"
  }
 },
 "nbformat": 4,
 "nbformat_minor": 4
}
