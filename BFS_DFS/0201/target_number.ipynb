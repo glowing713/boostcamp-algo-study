{
 "cells": [
  {
   "cell_type": "code",
   "execution_count": null,
   "metadata": {},
   "outputs": [],
   "source": [
    "def solution(numbers, target):\n",
    "    ans, N = [], len(numbers)\n",
    "    dfs(0, 0, ans, N)\n",
    "    return sum(ans)\n",
    "\n",
    "def dfs(idx, cnt, ans, N):\n",
    "    if idx == N:\n",
    "        if cnt == target:\n",
    "            ans.append(1)\n",
    "        return\n",
    "    \n",
    "    for operation in (1, -1):\n",
    "        nxt = numbers[idx]*operation\n",
    "        dfs(idx+1, cnt+nxt, ans, N)\n",
    "\n",
    "numbers=[1, 1, 1, 1, 1]\n",
    "target=3            \n",
    "solution(numbers, target)\n"
   ]
  }
 ],
 "metadata": {
  "kernelspec": {
   "display_name": "Python 3",
   "language": "python",
   "name": "python3"
  },
  "language_info": {
   "codemirror_mode": {
    "name": "ipython",
    "version": 3
   },
   "file_extension": ".py",
   "mimetype": "text/x-python",
   "name": "python",
   "nbconvert_exporter": "python",
   "pygments_lexer": "ipython3",
   "version": "3.8.5"
  }
 },
 "nbformat": 4,
 "nbformat_minor": 4
}
