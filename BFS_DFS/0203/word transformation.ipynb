{
 "cells": [
  {
   "cell_type": "code",
   "execution_count": null,
   "metadata": {},
   "outputs": [],
   "source": [
    "def solution(begin, target, words):\n",
    "    cand, confirm = [[begin, 0]], set()\n",
    "    while cand:\n",
    "        cur, cnt = cand.pop(0)\n",
    "        if cur == target:\n",
    "            return cnt\n",
    "        \n",
    "        for word in words:\n",
    "            if word not in confirm:\n",
    "                diff = sum([True if i != j else False for i,j in zip(cur,word)])\n",
    "                if diff == 1:\n",
    "                    confirm.add(word)\n",
    "                    cand.append([word, cnt+1])\n",
    "    return 0\n",
    "    \n",
    "begin='hit'\n",
    "target='cog'\n",
    "words=['hot', 'dot', 'dog', 'lot', 'log', 'cog']\n",
    "solution(begin,target,words)"
   ]
  },
  {
   "cell_type": "code",
   "execution_count": null,
   "metadata": {},
   "outputs": [],
   "source": [
    "import copy\n",
    "def solution(begin, target, words):\n",
    "    cand, words = [[begin,0]], set(words)\n",
    "    while cand:\n",
    "        cur, cnt = cand.pop(0)\n",
    "        if cur == target:\n",
    "            return cnt\n",
    "\n",
    "        for word in copy.deepcopy(words):\n",
    "            diff = sum([True if i != j else False for i,j in zip(cur,word)])\n",
    "            if diff == 1:\n",
    "                cand.append([word, cnt+1])\n",
    "                words.remove(word)\n",
    "    return 0\n",
    "    \n",
    "begin='hit'\n",
    "target='cog'\n",
    "words=['hot', 'dot', 'dog', 'lot', 'log', 'cog']\n",
    "solution(begin,target,words)"
   ]
  }
 ],
 "metadata": {
  "kernelspec": {
   "display_name": "Python 3",
   "language": "python",
   "name": "python3"
  },
  "language_info": {
   "codemirror_mode": {
    "name": "ipython",
    "version": 3
   },
   "file_extension": ".py",
   "mimetype": "text/x-python",
   "name": "python",
   "nbconvert_exporter": "python",
   "pygments_lexer": "ipython3",
   "version": "3.8.5"
  }
 },
 "nbformat": 4,
 "nbformat_minor": 4
}
