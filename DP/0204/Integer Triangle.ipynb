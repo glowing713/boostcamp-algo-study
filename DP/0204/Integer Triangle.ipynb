{
 "cells": [
  {
   "cell_type": "code",
   "execution_count": null,
   "metadata": {},
   "outputs": [],
   "source": [
    "#(bottom - up)\n",
    "def solution(triangle):\n",
    "    for j in range(len(triangle)-2,-1,-1):\n",
    "        for i in range(len(triangle[j])):\n",
    "            triangle[j][i] += max(triangle[j+1][i+1],triangle[j+1][i])\n",
    "    return triangle[0][0]\n",
    "\n",
    "triangle=[[7], [3, 8], [8, 1, 0], [2, 7, 4, 4], [4, 5, 2, 6, 5]]\n",
    "solution(triangle)"
   ]
  },
  {
   "cell_type": "code",
   "execution_count": null,
   "metadata": {},
   "outputs": [],
   "source": [
    "#(top - down)\n",
    "def solution(triangle):\n",
    "    triangle = [[0] + line + [0] for line in triangle]   \n",
    "    for i in range(1, len(triangle)):\n",
    "        for j in range(1, i+2):\n",
    "            triangle[i][j] += max(triangle[i-1][j-1], triangle[i-1][j])          \n",
    "    return max(triangle[-1])\n",
    "\n",
    "triangle=[[7], [3, 8], [8, 1, 0], [2, 7, 4, 4], [4, 5, 2, 6, 5]]\n",
    "solution(triangle)"
   ]
  }
 ],
 "metadata": {
  "kernelspec": {
   "display_name": "Python 3",
   "language": "python",
   "name": "python3"
  },
  "language_info": {
   "codemirror_mode": {
    "name": "ipython",
    "version": 3
   },
   "file_extension": ".py",
   "mimetype": "text/x-python",
   "name": "python",
   "nbconvert_exporter": "python",
   "pygments_lexer": "ipython3",
   "version": "3.8.5"
  }
 },
 "nbformat": 4,
 "nbformat_minor": 4
}
